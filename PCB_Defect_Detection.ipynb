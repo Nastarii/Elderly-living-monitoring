{
  "nbformat": 4,
  "nbformat_minor": 0,
  "metadata": {
    "colab": {
      "name": "PCB_Defect_Detection.ipynb",
      "provenance": [],
      "authorship_tag": "ABX9TyO848qLZPTZfuqNLUgo0Uhv",
      "include_colab_link": true
    },
    "kernelspec": {
      "name": "python3",
      "display_name": "Python 3"
    },
    "language_info": {
      "name": "python"
    },
    "accelerator": "GPU"
  },
  "cells": [
    {
      "cell_type": "markdown",
      "metadata": {
        "id": "view-in-github",
        "colab_type": "text"
      },
      "source": [
        "<a href=\"https://colab.research.google.com/github/Nastarii/Elderly-living-monitoring/blob/main/PCB_Defect_Detection.ipynb\" target=\"_parent\"><img src=\"https://colab.research.google.com/assets/colab-badge.svg\" alt=\"Open In Colab\"/></a>"
      ]
    },
    {
      "cell_type": "markdown",
      "metadata": {
        "id": "NYLRMyKTe30s"
      },
      "source": [
        "# Download Packages"
      ]
    },
    {
      "cell_type": "code",
      "metadata": {
        "colab": {
          "base_uri": "https://localhost:8080/"
        },
        "id": "SIqYI-Y7Wuat",
        "outputId": "fbcc6d89-68d3-4c5d-b85f-e20f934a771f"
      },
      "source": [
        "!pip install imageio\n",
        "\n",
        "!wget --no-check-certificate \\\n",
        "    \"https://github.com/tangsanli5201/DeepPCB/archive/refs/heads/master.zip\" \\\n",
        "    -O \"/tmp/DeepPCB.zip\""
      ],
      "execution_count": 2,
      "outputs": [
        {
          "output_type": "stream",
          "name": "stdout",
          "text": [
            "Requirement already satisfied: imageio in /usr/local/lib/python3.7/dist-packages (2.4.1)\n",
            "Requirement already satisfied: numpy in /usr/local/lib/python3.7/dist-packages (from imageio) (1.19.5)\n",
            "Requirement already satisfied: pillow in /usr/local/lib/python3.7/dist-packages (from imageio) (7.1.2)\n",
            "--2021-09-25 01:16:23--  https://github.com/tangsanli5201/DeepPCB/archive/refs/heads/master.zip\n",
            "Resolving github.com (github.com)... 140.82.113.4\n",
            "Connecting to github.com (github.com)|140.82.113.4|:443... connected.\n",
            "HTTP request sent, awaiting response... 302 Found\n",
            "Location: https://codeload.github.com/tangsanli5201/DeepPCB/zip/refs/heads/master [following]\n",
            "--2021-09-25 01:16:24--  https://codeload.github.com/tangsanli5201/DeepPCB/zip/refs/heads/master\n",
            "Resolving codeload.github.com (codeload.github.com)... 140.82.113.10\n",
            "Connecting to codeload.github.com (codeload.github.com)|140.82.113.10|:443... connected.\n",
            "HTTP request sent, awaiting response... 200 OK\n",
            "Length: unspecified [application/zip]\n",
            "Saving to: ‘/tmp/DeepPCB.zip’\n",
            "\n",
            "/tmp/DeepPCB.zip        [          <=>       ]  86.79M  18.4MB/s    in 4.8s    \n",
            "\n",
            "2021-09-25 01:16:29 (18.2 MB/s) - ‘/tmp/DeepPCB.zip’ saved [91004517]\n",
            "\n"
          ]
        }
      ]
    },
    {
      "cell_type": "markdown",
      "metadata": {
        "id": "dPAtqn_aemad"
      },
      "source": [
        "# Libraries"
      ]
    },
    {
      "cell_type": "code",
      "metadata": {
        "id": "czkk1XdZW2mN"
      },
      "source": [
        "from tensorflow.keras.preprocessing.image import ImageDataGenerator\n",
        "from tensorflow.keras.preprocessing.image import img_to_array\n",
        "from tensorflow.keras.models import Sequential\n",
        "from tensorflow.keras import layers\n",
        "from sklearn.model_selection import train_test_split\n",
        "from tensorflow.keras.optimizers import Adam\n",
        "\n",
        "import matplotlib.pyplot as plt\n",
        "import tensorflow as tf\n",
        "import pandas as pd\n",
        "import numpy as np\n",
        "import cv2 as cv\n",
        "import zipfile\n",
        "import imageio\n",
        "import imgaug\n",
        "import torch\n",
        "import PIL\n",
        "import os"
      ],
      "execution_count": 3,
      "outputs": []
    },
    {
      "cell_type": "markdown",
      "metadata": {
        "id": "OXLRPcFOedSr"
      },
      "source": [
        "# Unzip Dataset"
      ]
    },
    {
      "cell_type": "code",
      "metadata": {
        "id": "_CBT5MG6XARe"
      },
      "source": [
        "zip_format = zipfile.ZipFile('/tmp/DeepPCB.zip','r')\n",
        "zip_format.extractall('/tmp')\n",
        "zip_format.close()"
      ],
      "execution_count": 4,
      "outputs": []
    },
    {
      "cell_type": "markdown",
      "metadata": {
        "id": "OYClwAwreiGA"
      },
      "source": [
        "# Preparing Data"
      ]
    },
    {
      "cell_type": "code",
      "metadata": {
        "id": "3Dhq0lMwXEJU"
      },
      "source": [
        "directory = '/tmp/DeepPCB-master/PCBData/'\n",
        "\n",
        "train_val_paths = pd.read_csv(directory + 'trainval.txt', delimiter = \" \",header= None)\n",
        "test_paths = pd.read_csv(directory + 'test.txt', delimiter = \" \", header= None)"
      ],
      "execution_count": 5,
      "outputs": []
    },
    {
      "cell_type": "code",
      "metadata": {
        "id": "87qJe022XJDN"
      },
      "source": [
        "df = pd.concat([train_val_paths, test_paths],axis=0).sample(frac=1,random_state=42).drop(0,axis=1).rename(columns={1:'txt_files'})"
      ],
      "execution_count": 6,
      "outputs": []
    },
    {
      "cell_type": "code",
      "metadata": {
        "colab": {
          "base_uri": "https://localhost:8080/"
        },
        "id": "2psg8PpLXMBZ",
        "outputId": "ada1dfc5-92c4-40ba-bf46-cb13d727f5a8"
      },
      "source": [
        "df.info()"
      ],
      "execution_count": 7,
      "outputs": [
        {
          "output_type": "stream",
          "name": "stdout",
          "text": [
            "<class 'pandas.core.frame.DataFrame'>\n",
            "Int64Index: 1500 entries, 116 to 126\n",
            "Data columns (total 1 columns):\n",
            " #   Column     Non-Null Count  Dtype \n",
            "---  ------     --------------  ----- \n",
            " 0   txt_files  1500 non-null   object\n",
            "dtypes: object(1)\n",
            "memory usage: 23.4+ KB\n"
          ]
        }
      ]
    },
    {
      "cell_type": "code",
      "metadata": {
        "id": "ggIcFDZIXNWz"
      },
      "source": [
        "train_files = df['txt_files'][:1300].values\n",
        "test_files = df['txt_files'][:-200].values"
      ],
      "execution_count": 8,
      "outputs": []
    },
    {
      "cell_type": "code",
      "metadata": {
        "id": "ojTItX6rXYit"
      },
      "source": [
        "train_dir = '/tmp/Model/train'\n",
        "\n",
        "os.makedirs(train_dir)"
      ],
      "execution_count": 9,
      "outputs": []
    },
    {
      "cell_type": "code",
      "metadata": {
        "id": "eEBta1dnXj3d"
      },
      "source": [
        "class_names = ['open','short','mousebite','spur','copper','pin-hole']\n",
        "dirs = []\n",
        "\n",
        "for name in class_names:\n",
        "    dirs.append(train_dir + '/' + name)"
      ],
      "execution_count": 10,
      "outputs": []
    },
    {
      "cell_type": "code",
      "metadata": {
        "id": "z26E5XXJYOPF"
      },
      "source": [
        "for dir in dirs:\n",
        "    os.makedirs(dir)"
      ],
      "execution_count": 11,
      "outputs": []
    },
    {
      "cell_type": "code",
      "metadata": {
        "id": "5H3_-V1bYbYe"
      },
      "source": [
        "count = 0\n",
        "class_imgs = []\n",
        "\n",
        "for txt in train_files:\n",
        "\n",
        "    read_txt = pd.read_csv(directory + txt, delimiter= \" \", header=None)\n",
        "    img_path = txt.replace(\"_not\",\"\").replace(\".txt\",\"_test.jpg\")\n",
        "\n",
        "    for i in range (len(read_txt)):\n",
        "\n",
        "        label = read_txt.iloc[i][4]\n",
        "        crop_area = read_txt.iloc[i][:4]\n",
        "\n",
        "        image = PIL.Image.open(directory + img_path)\n",
        "        image = image.crop(crop_area)\n",
        "        image.save(dirs[label - 1] + '/' + str(count) + '.jpg')\n",
        "        class_imgs.append(np.asarray(image,dtype='float32'))\n",
        "        count = count + 1"
      ],
      "execution_count": 12,
      "outputs": []
    },
    {
      "cell_type": "markdown",
      "metadata": {
        "id": "eYnA2AWfeY35"
      },
      "source": [
        "# Model"
      ]
    },
    {
      "cell_type": "code",
      "metadata": {
        "id": "mxjN3yeKeX4p"
      },
      "source": [
        "batch_size = 32\n",
        "img_height = 180\n",
        "img_width = 180"
      ],
      "execution_count": 13,
      "outputs": []
    },
    {
      "cell_type": "code",
      "metadata": {
        "colab": {
          "base_uri": "https://localhost:8080/"
        },
        "id": "reFjyCBAfDM_",
        "outputId": "bcffc255-eaec-42a0-b3d3-fc28e3e386ac"
      },
      "source": [
        "train_ds = tf.keras.preprocessing.image_dataset_from_directory(\n",
        "  train_dir,\n",
        "  validation_split=0.2,\n",
        "  subset=\"training\",\n",
        "  seed=123,\n",
        "  image_size=(img_height, img_width),\n",
        "  batch_size=batch_size)"
      ],
      "execution_count": 14,
      "outputs": [
        {
          "output_type": "stream",
          "name": "stdout",
          "text": [
            "Found 8737 files belonging to 6 classes.\n",
            "Using 6990 files for training.\n"
          ]
        }
      ]
    },
    {
      "cell_type": "code",
      "metadata": {
        "colab": {
          "base_uri": "https://localhost:8080/"
        },
        "id": "FrFJ6bHGfJ6o",
        "outputId": "6609a4d2-a720-4828-b553-e2deada1c59b"
      },
      "source": [
        "val_ds = tf.keras.preprocessing.image_dataset_from_directory(\n",
        "  train_dir,\n",
        "  validation_split=0.2,\n",
        "  subset=\"validation\",\n",
        "  seed=123,\n",
        "  image_size=(img_height, img_width),\n",
        "  batch_size=batch_size)"
      ],
      "execution_count": 15,
      "outputs": [
        {
          "output_type": "stream",
          "name": "stdout",
          "text": [
            "Found 8737 files belonging to 6 classes.\n",
            "Using 1747 files for validation.\n"
          ]
        }
      ]
    },
    {
      "cell_type": "code",
      "metadata": {
        "id": "zsZWn18uftuE"
      },
      "source": [
        "AUTOTUNE = tf.data.AUTOTUNE\n",
        "\n",
        "train_ds = train_ds.cache().shuffle(1000).prefetch(buffer_size=AUTOTUNE)\n",
        "val_ds = val_ds.cache().prefetch(buffer_size=AUTOTUNE)"
      ],
      "execution_count": 16,
      "outputs": []
    },
    {
      "cell_type": "code",
      "metadata": {
        "id": "m5j1LgmekbSn"
      },
      "source": [
        "data_augmentation = tf.keras.Sequential(\n",
        "  [\n",
        "    layers.experimental.preprocessing.RandomFlip(\"horizontal\", \n",
        "                                                 input_shape=(img_height, \n",
        "                                                              img_width,\n",
        "                                                              3)),\n",
        "    layers.experimental.preprocessing.RandomRotation(0.1),\n",
        "    layers.experimental.preprocessing.RandomZoom(0.1),\n",
        "  ]\n",
        ")"
      ],
      "execution_count": 35,
      "outputs": []
    },
    {
      "cell_type": "code",
      "metadata": {
        "id": "w9l8CqrYfu0H"
      },
      "source": [
        "model = Sequential([\n",
        "  data_augmentation,\n",
        "  layers.experimental.preprocessing.Rescaling(1./255),\n",
        "  layers.Conv2D(16, 3, padding='same', activation='relu'),\n",
        "  layers.MaxPooling2D(),\n",
        "  layers.Conv2D(32, 3, padding='same', activation='relu'),\n",
        "  layers.MaxPooling2D(),\n",
        "  layers.Conv2D(64, 3, padding='same', activation='relu'),\n",
        "  layers.MaxPooling2D(),\n",
        "  layers.Dropout(0.2),\n",
        "  layers.Flatten(),\n",
        "  layers.Dense(128, activation='relu'),\n",
        "  layers.Dense(6)\n",
        "])"
      ],
      "execution_count": 36,
      "outputs": []
    },
    {
      "cell_type": "code",
      "metadata": {
        "id": "8YNhvVmsgLoI"
      },
      "source": [
        "model.compile(optimizer='adam',\n",
        "              loss=tf.keras.losses.SparseCategoricalCrossentropy(from_logits=True),\n",
        "              metrics=['accuracy'])"
      ],
      "execution_count": 37,
      "outputs": []
    },
    {
      "cell_type": "code",
      "metadata": {
        "colab": {
          "base_uri": "https://localhost:8080/"
        },
        "id": "4K2S2I2CgMim",
        "outputId": "5ab41a18-63e3-4d88-9a30-5909fed2b1c1"
      },
      "source": [
        "model.summary()"
      ],
      "execution_count": 38,
      "outputs": [
        {
          "output_type": "stream",
          "name": "stdout",
          "text": [
            "Model: \"sequential_4\"\n",
            "_________________________________________________________________\n",
            "Layer (type)                 Output Shape              Param #   \n",
            "=================================================================\n",
            "sequential_3 (Sequential)    (None, 180, 180, 3)       0         \n",
            "_________________________________________________________________\n",
            "rescaling_3 (Rescaling)      (None, 180, 180, 3)       0         \n",
            "_________________________________________________________________\n",
            "conv2d_9 (Conv2D)            (None, 180, 180, 16)      448       \n",
            "_________________________________________________________________\n",
            "max_pooling2d_9 (MaxPooling2 (None, 90, 90, 16)        0         \n",
            "_________________________________________________________________\n",
            "conv2d_10 (Conv2D)           (None, 90, 90, 32)        4640      \n",
            "_________________________________________________________________\n",
            "max_pooling2d_10 (MaxPooling (None, 45, 45, 32)        0         \n",
            "_________________________________________________________________\n",
            "conv2d_11 (Conv2D)           (None, 45, 45, 64)        18496     \n",
            "_________________________________________________________________\n",
            "max_pooling2d_11 (MaxPooling (None, 22, 22, 64)        0         \n",
            "_________________________________________________________________\n",
            "dropout (Dropout)            (None, 22, 22, 64)        0         \n",
            "_________________________________________________________________\n",
            "flatten_3 (Flatten)          (None, 30976)             0         \n",
            "_________________________________________________________________\n",
            "dense_6 (Dense)              (None, 128)               3965056   \n",
            "_________________________________________________________________\n",
            "dense_7 (Dense)              (None, 6)                 774       \n",
            "=================================================================\n",
            "Total params: 3,989,414\n",
            "Trainable params: 3,989,414\n",
            "Non-trainable params: 0\n",
            "_________________________________________________________________\n"
          ]
        }
      ]
    },
    {
      "cell_type": "code",
      "metadata": {
        "colab": {
          "base_uri": "https://localhost:8080/"
        },
        "id": "2UpMco08gPmK",
        "outputId": "0aeea491-9d27-4944-ca05-37bc7167989b"
      },
      "source": [
        "history = model.fit(\n",
        "  train_ds,\n",
        "  validation_data=val_ds,\n",
        "  epochs=8\n",
        ")"
      ],
      "execution_count": 39,
      "outputs": [
        {
          "output_type": "stream",
          "name": "stdout",
          "text": [
            "Epoch 1/8\n",
            "219/219 [==============================] - 12s 50ms/step - loss: 0.4074 - accuracy: 0.8631 - val_loss: 0.2106 - val_accuracy: 0.9313\n",
            "Epoch 2/8\n",
            "219/219 [==============================] - 11s 49ms/step - loss: 0.1948 - accuracy: 0.9418 - val_loss: 0.1225 - val_accuracy: 0.9674\n",
            "Epoch 3/8\n",
            "219/219 [==============================] - 11s 49ms/step - loss: 0.1470 - accuracy: 0.9589 - val_loss: 0.1198 - val_accuracy: 0.9697\n",
            "Epoch 4/8\n",
            "219/219 [==============================] - 11s 49ms/step - loss: 0.1189 - accuracy: 0.9649 - val_loss: 0.0840 - val_accuracy: 0.9754\n",
            "Epoch 5/8\n",
            "219/219 [==============================] - 11s 48ms/step - loss: 0.1074 - accuracy: 0.9694 - val_loss: 0.0896 - val_accuracy: 0.9742\n",
            "Epoch 6/8\n",
            "219/219 [==============================] - 11s 48ms/step - loss: 0.0908 - accuracy: 0.9710 - val_loss: 0.0662 - val_accuracy: 0.9800\n",
            "Epoch 7/8\n",
            "219/219 [==============================] - 11s 48ms/step - loss: 0.0766 - accuracy: 0.9783 - val_loss: 0.0749 - val_accuracy: 0.9794\n",
            "Epoch 8/8\n",
            "219/219 [==============================] - 11s 49ms/step - loss: 0.0673 - accuracy: 0.9813 - val_loss: 0.0550 - val_accuracy: 0.9834\n"
          ]
        }
      ]
    },
    {
      "cell_type": "code",
      "metadata": {
        "colab": {
          "base_uri": "https://localhost:8080/",
          "height": 498
        },
        "id": "SI0_FE1WjKX_",
        "outputId": "6d947623-e215-40dc-8174-d072e0b90006"
      },
      "source": [
        "acc = history.history['accuracy']\n",
        "val_acc = history.history['val_accuracy']\n",
        "\n",
        "loss = history.history['loss']\n",
        "val_loss = history.history['val_loss']\n",
        "\n",
        "epochs_range = range(8)\n",
        "\n",
        "plt.figure(figsize=(8, 8))\n",
        "plt.subplot(1, 2, 1)\n",
        "plt.plot(epochs_range, acc, label='Training Accuracy')\n",
        "plt.plot(epochs_range, val_acc, label='Validation Accuracy')\n",
        "plt.legend(loc='lower right')\n",
        "plt.title('Training and Validation Accuracy')\n",
        "\n",
        "plt.subplot(1, 2, 2)\n",
        "plt.plot(epochs_range, loss, label='Training Loss')\n",
        "plt.plot(epochs_range, val_loss, label='Validation Loss')\n",
        "plt.legend(loc='upper right')\n",
        "plt.title('Training and Validation Loss')\n",
        "plt.show()"
      ],
      "execution_count": 40,
      "outputs": [
        {
          "output_type": "display_data",
          "data": {
            "image/png": "[encoded data removed]",
            "text/plain": [
              "<Figure size 576x576 with 2 Axes>"
            ]
          },
          "metadata": {
            "needs_background": "light"
          }
        }
      ]
    }
  ]
}